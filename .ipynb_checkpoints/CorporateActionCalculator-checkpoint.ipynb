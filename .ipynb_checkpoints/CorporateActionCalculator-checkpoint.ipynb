{
 "cells": [
  {
   "cell_type": "markdown",
   "id": "9d43b8b7-1040-4b60-abdd-9aa09560d981",
   "metadata": {
    "tags": []
   },
   "source": [
    "## Theoretical Open Price Calculator - the easy way to show the impact of Corporate Actions on a Security\n",
    "\n",
    "TOPC serves as a valuable tool for efficiently computing the Theoretical Open Price of securities on the ex-date of a Corporate Action. This notebook provides a quick  efficient way of calculating theoretical open prices for various Corporate Actions, including Cash Dividends, Splits, Rights Issues, and Spin Offs.\n",
    "\n",
    "Designed for utilization by execution desks, middle offices, back offices, and data analysts engaged in the management of Equities Corporate Action data, this notebook evaluates the accuracy and completeness of corporate action data. It proves particularly useful for identifying potential gaps or inaccuracies in the provided information.\n",
    "\n",
    "Please note the functionality of this notebook is centered around the calculation of theoretical open prices and does not extend to determining the actual open price of a security. Factors influencing the actual open price, such as supply and demand dynamics, sentiment, and economic data, fall outside the scope of this tool."
   ]
  },
  {
   "cell_type": "code",
   "execution_count": 12,
   "id": "6985864d-58aa-48f6-aab8-96b9c6176713",
   "metadata": {
    "tags": []
   },
   "outputs": [],
   "source": [
    "import ipywidgets as widgets\n",
    "from IPython.display import display"
   ]
  },
  {
   "cell_type": "code",
   "execution_count": 23,
   "id": "f8341d79-6bc0-48f3-b298-868d50e72a6b",
   "metadata": {
    "tags": []
   },
   "outputs": [],
   "source": [
    "def create_float_widget(widget_name: str):\n",
    "    \n",
    "    default_description_width = '200px'\n",
    "\n",
    "    float_widget = widgets.FloatText(\n",
    "        description = widget_name,\n",
    "        disabled = False,\n",
    "        value= None,\n",
    "        style={'description_width': default_description_width} \n",
    "    )\n",
    "    return float_widget"
   ]
  },
  {
   "cell_type": "markdown",
   "id": "faf6af88-864c-4e1b-be97-e3bfe44afb99",
   "metadata": {},
   "source": [
    "### 1. Cash Dividend, Special Cash or Return of Capital - Theoretical Open Price Calculation\n",
    "\n",
    "Calculation:\n",
    "ex-1 close price - dividend gross amount \n"
   ]
  },
  {
   "cell_type": "code",
   "execution_count": 30,
   "id": "cc075ac2-9ce9-48e6-9bf2-0c066dc9b02f",
   "metadata": {},
   "outputs": [
    {
     "data": {
      "application/vnd.jupyter.widget-view+json": {
       "model_id": "5c7d88c85ca747a8b0d85948be0a7760",
       "version_major": 2,
       "version_minor": 0
      },
      "text/plain": [
       "FloatText(value=0.0, description=' Dividend/RoC Amount:', style=DescriptionStyle(description_width='200px'))"
      ]
     },
     "metadata": {},
     "output_type": "display_data"
    },
    {
     "data": {
      "application/vnd.jupyter.widget-view+json": {
       "model_id": "8081c594f7c0414daf2daa3484a74069",
       "version_major": 2,
       "version_minor": 0
      },
      "text/plain": [
       "FloatText(value=0.0, description='ex-1 Close Price:', style=DescriptionStyle(description_width='200px'))"
      ]
     },
     "metadata": {},
     "output_type": "display_data"
    },
    {
     "data": {
      "application/vnd.jupyter.widget-view+json": {
       "model_id": "3452fa0dc10a425f9abfd6456020400e",
       "version_major": 2,
       "version_minor": 0
      },
      "text/plain": [
       "FloatText(value=0.0, description='Theoretical Open Price:', style=DescriptionStyle(description_width='200px'))"
      ]
     },
     "metadata": {},
     "output_type": "display_data"
    }
   ],
   "source": [
    "cash_dividend = create_float_widget(\" Dividend/RoC Amount:\")\n",
    "last_close_price = create_float_widget(\"ex-1 Close Price:\")\n",
    "theoretical_open_price = create_float_widget(\"Theoretical Open Price:\")\n",
    "\n",
    "def calculate_theoretical_open_price(change):\n",
    "    \n",
    "    if cash_dividend.value >= 0 and last_close_price.value > 0:\n",
    "        theoretical_open_price.value = last_close_price.value - cash_dividend.value\n",
    "    else:\n",
    "        theoretical_open_price.value = 0 \n",
    "\n",
    "# Observe changes in cash_dividend and last_close_price and call the calculate_theoretical_open_price function\n",
    "cash_dividend.observe(calculate_theoretical_open_price, 'value')\n",
    "last_close_price.observe(calculate_theoretical_open_price, 'value')\n",
    "\n",
    "# Display the widgets\n",
    "display(cash_dividend, last_close_price, theoretical_open_price)\n"
   ]
  },
  {
   "cell_type": "markdown",
   "id": "6d197311-801f-4a7e-b190-b1ade9731c94",
   "metadata": {},
   "source": [
    "### 2. Split & Cash Dividend - Theoretical Open Price Calculation\n",
    "\n",
    "Calculation: Split = ex-1 close price / split terms\n",
    "\n",
    "Calculation: cash and split = (ex-1 close price - cash dividend gross amount) / split terms\n",
    "\n"
   ]
  },
  {
   "cell_type": "code",
   "execution_count": 17,
   "id": "bb358c7d-b880-417c-bf01-fc718f800666",
   "metadata": {
    "tags": []
   },
   "outputs": [
    {
     "data": {
      "application/vnd.jupyter.widget-view+json": {
       "model_id": "0caf439ed6f94ec4a4283bda83595ff5",
       "version_major": 2,
       "version_minor": 0
      },
      "text/plain": [
       "FloatText(value=0.0, description='Cash Dividend Amount:', style=DescriptionStyle(description_width='200px'))"
      ]
     },
     "metadata": {},
     "output_type": "display_data"
    },
    {
     "data": {
      "application/vnd.jupyter.widget-view+json": {
       "model_id": "cd2ab98d889048d7bf26d710e4f90265",
       "version_major": 2,
       "version_minor": 0
      },
      "text/plain": [
       "FloatText(value=0.0, description='ex-1 Close Price:', style=DescriptionStyle(description_width='200px'))"
      ]
     },
     "metadata": {},
     "output_type": "display_data"
    },
    {
     "data": {
      "application/vnd.jupyter.widget-view+json": {
       "model_id": "4ed57256359e47a394412b346f254f3a",
       "version_major": 2,
       "version_minor": 0
      },
      "text/plain": [
       "FloatText(value=0.0, description='Split Terms', style=DescriptionStyle(description_width='200px'))"
      ]
     },
     "metadata": {},
     "output_type": "display_data"
    },
    {
     "data": {
      "application/vnd.jupyter.widget-view+json": {
       "model_id": "c044c10ce86a443498d71b3775acf0f7",
       "version_major": 2,
       "version_minor": 0
      },
      "text/plain": [
       "FloatText(value=0.0, description='Theoretical Open Price:', style=DescriptionStyle(description_width='200px'))"
      ]
     },
     "metadata": {},
     "output_type": "display_data"
    }
   ],
   "source": [
    "cash_dividend_split = create_float_widget(\"Cash Dividend Amount:\")\n",
    "close_price_split = create_float_widget(\"ex-1 Close Price:\")\n",
    "theoretical_open_price_split = create_float_widget(\"Theoretical Open Price:\")\n",
    "split_terms = create_float_widget(\"Split Terms\")\n",
    "\n",
    "def split_calculation(change):\n",
    "    if cash_dividend_split.value >= 0 and close_price_split.value > 0 and split_terms.value > 0:\n",
    "        theoretical_open_price_split.value =  (close_price_split.value - cash_dividend_split.value) / split_terms.value\n",
    "    else:\n",
    "        theoretical_open_price_split.value = 0 \n",
    "\n",
    "# Observe changes in cash_dividend and last_close_price and call the calculate_theoretical_open_price function\n",
    "cash_dividend_split.observe(split_calculation, 'value')\n",
    "close_price_split.observe(split_calculation, 'value')\n",
    "split_terms.observe(split_calculation, 'value')\n",
    "\n",
    "# Display the widgets\n",
    "display(cash_dividend_split, close_price_split, split_terms, theoretical_open_price_split)\n"
   ]
  },
  {
   "cell_type": "markdown",
   "id": "82e51868-7e6b-4421-9953-19bb410eceb2",
   "metadata": {},
   "source": [
    "### 3. Rights Issue - Theoretical Open Price Calculation\n",
    "\n",
    "Calculation: Current Market Price+(Rights Issue Price×Rights Ratio)/ 1 + rights ratio"
   ]
  },
  {
   "cell_type": "code",
   "execution_count": 26,
   "id": "4dc7d348-fca8-46e3-8af0-9a8479e31910",
   "metadata": {
    "tags": []
   },
   "outputs": [
    {
     "data": {
      "application/vnd.jupyter.widget-view+json": {
       "model_id": "37b6241064f74dbb92ff446909b9e62d",
       "version_major": 2,
       "version_minor": 0
      },
      "text/plain": [
       "FloatText(value=0.0, description='ex-1 Close Price:', style=DescriptionStyle(description_width='200px'))"
      ]
     },
     "metadata": {},
     "output_type": "display_data"
    },
    {
     "data": {
      "application/vnd.jupyter.widget-view+json": {
       "model_id": "ca1d9c11f9224315ac56779dff1d7604",
       "version_major": 2,
       "version_minor": 0
      },
      "text/plain": [
       "FloatText(value=0.0, description='Rights Terms:', style=DescriptionStyle(description_width='200px'))"
      ]
     },
     "metadata": {},
     "output_type": "display_data"
    },
    {
     "data": {
      "application/vnd.jupyter.widget-view+json": {
       "model_id": "6988b425e62a4b429d211fecdc238d91",
       "version_major": 2,
       "version_minor": 0
      },
      "text/plain": [
       "FloatText(value=0.0, description='Subscription Price:', style=DescriptionStyle(description_width='200px'))"
      ]
     },
     "metadata": {},
     "output_type": "display_data"
    },
    {
     "data": {
      "application/vnd.jupyter.widget-view+json": {
       "model_id": "19dedcee1ee3451d9b3302da84cd4601",
       "version_major": 2,
       "version_minor": 0
      },
      "text/plain": [
       "FloatText(value=0.0, description='Theoretical Open Price:', style=DescriptionStyle(description_width='200px'))"
      ]
     },
     "metadata": {},
     "output_type": "display_data"
    }
   ],
   "source": [
    "close_price_rights = create_float_widget(\"ex-1 Close Price:\")\n",
    "theoretical_open_price_rights = create_float_widget(\"Theoretical Open Price:\")\n",
    "rights_terms = create_float_widget(\"Rights Terms:\")\n",
    "subscription_price = create_float_widget(\"Subscription Price:\")\n",
    "\n",
    "def rights_calculation(change):\n",
    "    if subscription_price.value > 0 and close_price_rights.value > 0 and rights_terms.value > 0:\n",
    "        theoretical_open_price_rights.value = (close_price_rights.value + (subscription_price.value * rights_terms.value)) / (1 + rights_terms.value)\n",
    "    else:\n",
    "        theoretical_open_price_rights.value = 0 \n",
    "        \n",
    "close_price_rights.observe(rights_calculation, 'value')\n",
    "rights_terms.observe(rights_calculation, 'value')\n",
    "subscription_price.observe(rights_calculation, 'value')\n",
    "\n",
    "# Display the widgets\n",
    "display(close_price_rights,rights_terms, subscription_price, theoretical_open_price_rights)"
   ]
  },
  {
   "cell_type": "markdown",
   "id": "d676b0bf-28ee-42cd-8caa-691d72c12ddc",
   "metadata": {},
   "source": [
    "### 4. Spun Off Company - Theoretical Open Price Calculation\n",
    "\n",
    "Calculation: Parent Spin Off ex-1 price / Spin off terms\n"
   ]
  },
  {
   "cell_type": "code",
   "execution_count": 28,
   "id": "7212b864-c035-4be2-8e35-ea0332347228",
   "metadata": {
    "tags": []
   },
   "outputs": [
    {
     "data": {
      "application/vnd.jupyter.widget-view+json": {
       "model_id": "fd8dd78e334349f08dd8972ae5c55c40",
       "version_major": 2,
       "version_minor": 0
      },
      "text/plain": [
       "FloatText(value=0.0, description='Spin Off Ex-1 Close Price:', style=DescriptionStyle(description_width='200px…"
      ]
     },
     "metadata": {},
     "output_type": "display_data"
    },
    {
     "data": {
      "application/vnd.jupyter.widget-view+json": {
       "model_id": "7697e9bfa0c14518a6b7b50ae888751b",
       "version_major": 2,
       "version_minor": 0
      },
      "text/plain": [
       "FloatText(value=0.0, description='Spin Off Terms:', style=DescriptionStyle(description_width='200px'))"
      ]
     },
     "metadata": {},
     "output_type": "display_data"
    },
    {
     "data": {
      "application/vnd.jupyter.widget-view+json": {
       "model_id": "799c8571c5a94d219f0f83fa91f1934a",
       "version_major": 2,
       "version_minor": 0
      },
      "text/plain": [
       "FloatText(value=0.0, description='Spun Off Theoretical Open Price:', style=DescriptionStyle(description_width=…"
      ]
     },
     "metadata": {},
     "output_type": "display_data"
    }
   ],
   "source": [
    "spin_off_close = create_float_widget(\"Spin Off Ex-1 Close Price:\")\n",
    "theoretical_open_price_spin = create_float_widget(\"Spun Off Theoretical Open Price:\")\n",
    "spin_off_terms = create_float_widget(\"Spin Off Terms:\")\n",
    "\n",
    "def spun_off__calculation(change):\n",
    "    if spin_off_close.value > 0 and spin_off_terms.value > 0:\n",
    "        theoretical_open_price_spin.value = spin_off_close.value / spin_off_terms.value\n",
    "    else:\n",
    "        theoretical_open_price_spin.value = 0 \n",
    "        \n",
    "spin_off_close.observe(spun_off__calculation, 'value')\n",
    "spin_off_terms.observe(spun_off__calculation, 'value')\n",
    "\n",
    "# Display the widgets\n",
    "display(spin_off_close, spin_off_terms, theoretical_open_price_spin)"
   ]
  }
 ],
 "metadata": {
  "kernelspec": {
   "display_name": "Python 3 (ipykernel)",
   "language": "python",
   "name": "python3"
  },
  "language_info": {
   "codemirror_mode": {
    "name": "ipython",
    "version": 3
   },
   "file_extension": ".py",
   "mimetype": "text/x-python",
   "name": "python",
   "nbconvert_exporter": "python",
   "pygments_lexer": "ipython3",
   "version": "3.11.5"
  }
 },
 "nbformat": 4,
 "nbformat_minor": 5
}
